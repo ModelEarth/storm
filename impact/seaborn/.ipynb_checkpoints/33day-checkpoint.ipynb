{
 "cells": [
  {
   "cell_type": "code",
   "execution_count": null,
   "metadata": {
    "scrolled": true
   },
   "outputs": [],
   "source": [
    "import pandas as pd\n",
    "#import os\n",
    "import matplotlib.pyplot as plt\n",
    "import seaborn as sns\n",
    "sns.set(style=\"ticks\", palette=\"pastel\")\n",
    "\n",
    "\n",
    "### Displacement Distance (no percent)\n",
    "##tips = pd.read_csv(\"Tampa-ByDay-Local.csv\")\n",
    "##tips = pd.read_csv(\"data/p/all_p.csv\")\n",
    "##tips = pd.read_csv(\"data/gyration/ph2013_cebu_city_31day_gyration.csv\") // x=\"days\", y=\"totaldisplacement\"\n",
    "tips = pd.read_csv(\"../../TW-2014-Philippines-Rammasun/output/ph2014_manila50_33day.csv\")\n",
    "\n",
    "ax = sns.boxplot(x=\"day\", y=\"displacement\",hue=\"day\", palette=[\"c\", \"g\", \"b\", \"y\", \"r\", \"m\"],data=tips)\n",
    "ax.set_ylabel('Displacement (km)',fontsize=24) # Perturbation Degree - % Change in Displacement\n",
    "ax.set_xlabel('Days from Impact',fontsize=20)\n",
    "ax.set(ylim=(0,60))\n",
    "\n",
    "#sns.despine(offset=10, trim=True) # Hide surrounding box\n",
    "ax.tick_params(labelsize=14)\n",
    "\n",
    "#sns.set(style=\"whitegrid\") #Adds horizontal lines, naw.\n",
    "#sns.set(rc={'figure.figsize':(18.7,9.5)}) # Radius of gyration\n",
    "sns.set(rc={'figure.figsize':(24,9.5)}) # Run twice to see size, if not already set.\n",
    "\n",
    "\n",
    "\n"
   ]
  },
  {
   "cell_type": "code",
   "execution_count": null,
   "metadata": {},
   "outputs": [],
   "source": []
  },
  {
   "cell_type": "code",
   "execution_count": null,
   "metadata": {},
   "outputs": [],
   "source": []
  },
  {
   "cell_type": "code",
   "execution_count": null,
   "metadata": {},
   "outputs": [],
   "source": []
  }
 ],
 "metadata": {
  "kernelspec": {
   "display_name": "Python 3",
   "language": "python",
   "name": "python3"
  },
  "language_info": {
   "codemirror_mode": {
    "name": "ipython",
    "version": 3
   },
   "file_extension": ".py",
   "mimetype": "text/x-python",
   "name": "python",
   "nbconvert_exporter": "python",
   "pygments_lexer": "ipython3",
   "version": "3.7.1"
  }
 },
 "nbformat": 4,
 "nbformat_minor": 2
}
